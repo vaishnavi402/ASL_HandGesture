{
 "cells": [
  {
   "cell_type": "code",
   "execution_count": null,
   "id": "ebbdb192",
   "metadata": {
    "execution": {
     "iopub.execute_input": "2022-11-21T12:27:27.505259Z",
     "iopub.status.busy": "2022-11-21T12:27:27.504432Z",
     "iopub.status.idle": "2022-11-21T12:27:34.083720Z",
     "shell.execute_reply": "2022-11-21T12:27:34.082538Z"
    },
    "papermill": {
     "duration": 6.592846,
     "end_time": "2022-11-21T12:27:34.086130",
     "exception": false,
     "start_time": "2022-11-21T12:27:27.493284",
     "status": "completed"
    },
    "tags": []
   },
   "outputs": [],
   "source": [
    "import numpy as np\n",
    "import pandas as pd\n",
    "import os\n",
    "import random\n",
    "import matplotlib.pyplot as plt\n",
    "import seaborn as sns\n",
    "import string\n",
    "import cv2\n",
    "\n",
    "from sklearn.model_selection import train_test_split\n",
    "from sklearn.metrics import accuracy_score\n",
    "from sklearn.pipeline import Pipeline\n",
    "from sklearn.metrics import classification_report\n",
    "from sklearn.metrics import confusion_matrix\n",
    "\n",
    "import glob\n",
    "import tensorflow as tf\n",
    "from tensorflow.keras.utils import load_img\n",
    "from tensorflow.keras.preprocessing.image import ImageDataGenerator\n",
    "from tensorflow.keras.applications.vgg19 import VGG19\n",
    "from tensorflow.keras import layers\n",
    "from tensorflow.keras import optimizers\n",
    "from tensorflow.keras import models\n",
    "from tensorflow.keras import callbacks\n",
    "from tensorflow.keras.utils import plot_model\n",
    "\n",
    "# random seed\n",
    "SEED = 99\n",
    "os.environ['TF_CPP_MIN_LOG_LEVEL'] = '2'\n",
    "print(os.listdir(\"D:\\Final Year Project\\Classification\\input\"))"
   ]
  },
  {
   "cell_type": "code",
   "execution_count": null,
   "id": "c2020590",
   "metadata": {
    "execution": {
     "iopub.execute_input": "2022-11-21T12:27:34.127203Z",
     "iopub.status.busy": "2022-11-21T12:27:34.125987Z",
     "iopub.status.idle": "2022-11-21T12:27:34.133323Z",
     "shell.execute_reply": "2022-11-21T12:27:34.132312Z"
    },
    "papermill": {
     "duration": 0.02008,
     "end_time": "2022-11-21T12:27:34.135265",
     "exception": false,
     "start_time": "2022-11-21T12:27:34.115185",
     "status": "completed"
    },
    "tags": []
   },
   "outputs": [],
   "source": [
    "def get_labels_images(path):\n",
    "    labels = []\n",
    "    images = []\n",
    "    directories = []\n",
    "    for directory in os.listdir(path):\n",
    "        for Label in os.listdir(path+'/'+directory):\n",
    "            for Image in os.listdir(path+'/'+directory+'/'+Label):\n",
    "                directories.append(directory)\n",
    "                labels.append(Label)\n",
    "                images.append(directory +'/'+Label+'/'+Image)\n",
    "    return pd.DataFrame({'directories':directories,'labels':labels,'images':images})"
   ]
  },
  {
   "cell_type": "code",
   "execution_count": null,
   "id": "d2b884c0",
   "metadata": {
    "execution": {
     "iopub.execute_input": "2022-11-21T12:27:34.156421Z",
     "iopub.status.busy": "2022-11-21T12:27:34.155580Z",
     "iopub.status.idle": "2022-11-21T12:27:58.138701Z",
     "shell.execute_reply": "2022-11-21T12:27:58.137689Z"
    },
    "papermill": {
     "duration": 23.996483,
     "end_time": "2022-11-21T12:27:58.141442",
     "exception": false,
     "start_time": "2022-11-21T12:27:34.144959",
     "status": "completed"
    },
    "tags": []
   },
   "outputs": [],
   "source": [
    "dataset_dir = os.path.abspath('D:/Final Year Project/Classification/input/dataset5/')\n",
    "df = get_labels_images(dataset_dir)"
   ]
  },
  {
   "cell_type": "code",
   "execution_count": null,
   "id": "777b38e7",
   "metadata": {
    "execution": {
     "iopub.execute_input": "2022-11-21T12:27:58.182171Z",
     "iopub.status.busy": "2022-11-21T12:27:58.181849Z",
     "iopub.status.idle": "2022-11-21T12:27:58.189973Z",
     "shell.execute_reply": "2022-11-21T12:27:58.188843Z"
    },
    "papermill": {
     "duration": 0.022598,
     "end_time": "2022-11-21T12:27:58.193434",
     "exception": false,
     "start_time": "2022-11-21T12:27:58.170836",
     "status": "completed"
    },
    "tags": []
   },
   "outputs": [],
   "source": [
    "df.shape"
   ]
  },
  {
   "cell_type": "code",
   "execution_count": null,
   "id": "bea9080d",
   "metadata": {
    "execution": {
     "iopub.execute_input": "2022-11-21T12:27:58.213926Z",
     "iopub.status.busy": "2022-11-21T12:27:58.213607Z",
     "iopub.status.idle": "2022-11-21T12:27:58.230595Z",
     "shell.execute_reply": "2022-11-21T12:27:58.229664Z"
    },
    "papermill": {
     "duration": 0.029554,
     "end_time": "2022-11-21T12:27:58.232637",
     "exception": false,
     "start_time": "2022-11-21T12:27:58.203083",
     "status": "completed"
    },
    "tags": []
   },
   "outputs": [],
   "source": [
    "df.head()"
   ]
  },
  {
   "cell_type": "code",
   "execution_count": null,
   "id": "b4b51c13",
   "metadata": {
    "execution": {
     "iopub.execute_input": "2022-11-21T12:27:58.253293Z",
     "iopub.status.busy": "2022-11-21T12:27:58.253021Z",
     "iopub.status.idle": "2022-11-21T12:27:58.336855Z",
     "shell.execute_reply": "2022-11-21T12:27:58.335513Z"
    },
    "papermill": {
     "duration": 0.096567,
     "end_time": "2022-11-21T12:27:58.339022",
     "exception": false,
     "start_time": "2022-11-21T12:27:58.242455",
     "status": "completed"
    },
    "tags": []
   },
   "outputs": [],
   "source": [
    "temp_df = df.sort_values(by=['labels'])\n",
    "alphabet_labels = np.array(list(string.ascii_lowercase))\n",
    "print_labels = np.array(temp_df['labels'].unique())\n",
    "set_diff = np.setdiff1d(alphabet_labels, print_labels)\n",
    "print(print_labels)\n",
    "print(\"Missing Letters:\",set_diff)"
   ]
  },
  {
   "cell_type": "code",
   "execution_count": null,
   "id": "07ba4bfd",
   "metadata": {
    "execution": {
     "iopub.execute_input": "2022-11-21T12:27:58.360843Z",
     "iopub.status.busy": "2022-11-21T12:27:58.360520Z",
     "iopub.status.idle": "2022-11-21T12:27:58.366801Z",
     "shell.execute_reply": "2022-11-21T12:27:58.365764Z"
    },
    "papermill": {
     "duration": 0.019481,
     "end_time": "2022-11-21T12:27:58.369031",
     "exception": false,
     "start_time": "2022-11-21T12:27:58.349550",
     "status": "completed"
    },
    "tags": []
   },
   "outputs": [],
   "source": [
    "def random_sample_plot(X):\n",
    "    plt.figure(figsize=(15, 18))\n",
    "    for i in range(16):\n",
    "        plt.subplot(4, 4, i+1)\n",
    "        sample = random.choice(X['images'])\n",
    "        image = load_img(dataset_dir+'/'+sample,target_size=(64,64))\n",
    "        plt.imshow(image)\n",
    "        plt.title(\"label:{},\\nimage:{}\".format(X[X['images']==sample]['labels'].values,sample))\n",
    "    plt.show()"
   ]
  },
  {
   "cell_type": "code",
   "execution_count": null,
   "id": "77ad3102",
   "metadata": {
    "execution": {
     "iopub.execute_input": "2022-11-21T12:27:58.390770Z",
     "iopub.status.busy": "2022-11-21T12:27:58.389847Z",
     "iopub.status.idle": "2022-11-21T12:28:00.404325Z",
     "shell.execute_reply": "2022-11-21T12:28:00.403418Z"
    },
    "papermill": {
     "duration": 2.034818,
     "end_time": "2022-11-21T12:28:00.413798",
     "exception": false,
     "start_time": "2022-11-21T12:27:58.378980",
     "status": "completed"
    },
    "tags": []
   },
   "outputs": [],
   "source": [
    "random_sample_plot(df)"
   ]
  },
  {
   "cell_type": "code",
   "execution_count": null,
   "id": "06b452f8",
   "metadata": {
    "execution": {
     "iopub.execute_input": "2022-11-21T12:28:00.483556Z",
     "iopub.status.busy": "2022-11-21T12:28:00.483203Z",
     "iopub.status.idle": "2022-11-21T12:28:00.594898Z",
     "shell.execute_reply": "2022-11-21T12:28:00.593818Z"
    },
    "papermill": {
     "duration": 0.132437,
     "end_time": "2022-11-21T12:28:00.597453",
     "exception": false,
     "start_time": "2022-11-21T12:28:00.465016",
     "status": "completed"
    },
    "tags": []
   },
   "outputs": [],
   "source": [
    "color_df = df[df['images'].map(\n",
    "    lambda x: True if x.find('color')!=-1 else False)].reset_index(drop=True)\n",
    "deep_df = df[df['images'].map(\n",
    "    lambda x: True if x.find('color')==-1 else False)].reset_index(drop=True)"
   ]
  },
  {
   "cell_type": "code",
   "execution_count": null,
   "id": "fb48f1d1",
   "metadata": {
    "execution": {
     "iopub.execute_input": "2022-11-21T12:28:00.633923Z",
     "iopub.status.busy": "2022-11-21T12:28:00.633016Z",
     "iopub.status.idle": "2022-11-21T12:28:00.640362Z",
     "shell.execute_reply": "2022-11-21T12:28:00.639195Z"
    },
    "papermill": {
     "duration": 0.027542,
     "end_time": "2022-11-21T12:28:00.642366",
     "exception": false,
     "start_time": "2022-11-21T12:28:00.614824",
     "status": "completed"
    },
    "tags": []
   },
   "outputs": [],
   "source": [
    "df.shape[0]==(color_df.shape[0]+deep_df.shape[0])"
   ]
  },
  {
   "cell_type": "code",
   "execution_count": null,
   "id": "49ef87a4",
   "metadata": {
    "execution": {
     "iopub.execute_input": "2022-11-21T12:28:00.678819Z",
     "iopub.status.busy": "2022-11-21T12:28:00.677294Z",
     "iopub.status.idle": "2022-11-21T12:28:03.208489Z",
     "shell.execute_reply": "2022-11-21T12:28:03.207641Z"
    },
    "papermill": {
     "duration": 2.562928,
     "end_time": "2022-11-21T12:28:03.221841",
     "exception": false,
     "start_time": "2022-11-21T12:28:00.658913",
     "status": "completed"
    },
    "tags": []
   },
   "outputs": [],
   "source": [
    "random_sample_plot(color_df)"
   ]
  },
  {
   "cell_type": "code",
   "execution_count": null,
   "id": "07c0124e",
   "metadata": {
    "execution": {
     "iopub.execute_input": "2022-11-21T12:28:03.285023Z",
     "iopub.status.busy": "2022-11-21T12:28:03.284294Z",
     "iopub.status.idle": "2022-11-21T12:28:04.997810Z",
     "shell.execute_reply": "2022-11-21T12:28:04.996852Z"
    },
    "papermill": {
     "duration": 1.747865,
     "end_time": "2022-11-21T12:28:04.999951",
     "exception": false,
     "start_time": "2022-11-21T12:28:03.252086",
     "status": "completed"
    },
    "tags": []
   },
   "outputs": [],
   "source": [
    "random_sample_plot(deep_df)"
   ]
  },
  {
   "cell_type": "code",
   "execution_count": null,
   "id": "eee5a6cb",
   "metadata": {
    "execution": {
     "iopub.execute_input": "2022-11-21T12:28:05.123942Z",
     "iopub.status.busy": "2022-11-21T12:28:05.123518Z",
     "iopub.status.idle": "2022-11-21T12:28:05.850106Z",
     "shell.execute_reply": "2022-11-21T12:28:05.849144Z"
    },
    "papermill": {
     "duration": 0.761355,
     "end_time": "2022-11-21T12:28:05.853201",
     "exception": false,
     "start_time": "2022-11-21T12:28:05.091846",
     "status": "completed"
    },
    "tags": []
   },
   "outputs": [],
   "source": [
    "def plot_data(data):\n",
    "    fig, (ax1, ax2) = plt.subplots(1,2, figsize=(20,10))\n",
    "    ax1.set_title('Bar Graph Count of Letter Signs')\n",
    "    ax2.set_title('Pie Chart Graph Count of Letter Signs')\n",
    "    sns.countplot(x=data['labels'], ax=ax1)\n",
    "    data['labels'].value_counts().plot.pie(autopct='%1.1f%%',shadow=False,textprops={'fontsize': 15},ax=ax2)\n",
    "    plt.show()\n",
    "    \n",
    "plot_data(df)"
   ]
  },
  {
   "cell_type": "code",
   "execution_count": null,
   "id": "2fe725e5",
   "metadata": {
    "execution": {
     "iopub.execute_input": "2022-11-21T12:28:05.981495Z",
     "iopub.status.busy": "2022-11-21T12:28:05.980358Z",
     "iopub.status.idle": "2022-11-21T12:28:05.988922Z",
     "shell.execute_reply": "2022-11-21T12:28:05.988004Z"
    },
    "papermill": {
     "duration": 0.044415,
     "end_time": "2022-11-21T12:28:05.991221",
     "exception": false,
     "start_time": "2022-11-21T12:28:05.946806",
     "status": "completed"
    },
    "tags": []
   },
   "outputs": [],
   "source": [
    "IMAGE_WIDTH = 64\n",
    "IMAGE_HEIGHT = 64\n",
    "IMAGE_SIZE=(IMAGE_WIDTH, IMAGE_HEIGHT)\n",
    "IMAGE_CHANNELS= 3\n",
    "BATCH_SIZE = 128\n",
    "LABEL_CLASS = 24\n",
    "LEARNINGRATE = 1e-5\n",
    "WEIGHTS = 'D:/Final Year Project/Classification/input/VGG19/vgg19_weights_tf_dim_ordering_tf_kernels_notop.h5'\n",
    "\n",
    "datagen = ImageDataGenerator(rescale=1.0/255)\n",
    "\n",
    "data_gen_args = dict(directory=dataset_dir, \n",
    "                     x_col='images',\n",
    "                     y_col='labels',\n",
    "                     target_size=IMAGE_SIZE,\n",
    "                     class_mode='categorical',\n",
    "                     batch_size=BATCH_SIZE,\n",
    "                     seed = SEED)\n",
    "\n",
    "early_stop = callbacks.EarlyStopping(\n",
    "    monitor='val_loss',\n",
    "    patience = 5,\n",
    "    verbose = 1, \n",
    "    restore_best_weights=True\n",
    "    )\n",
    "\n",
    "learningrate_reduction = callbacks.ReduceLROnPlateau(\n",
    "    monitor='val_loss', \n",
    "    patience= 2, \n",
    "    verbose= 1, \n",
    "    )\n",
    "\n",
    "callbacks = [early_stop,learningrate_reduction]\n",
    "\n",
    "EPOCHS = 25"
   ]
  },
  {
   "cell_type": "code",
   "execution_count": null,
   "id": "f5f3b435",
   "metadata": {
    "execution": {
     "iopub.execute_input": "2022-11-21T12:28:06.055595Z",
     "iopub.status.busy": "2022-11-21T12:28:06.055222Z",
     "iopub.status.idle": "2022-11-21T12:28:06.062045Z",
     "shell.execute_reply": "2022-11-21T12:28:06.061120Z"
    },
    "papermill": {
     "duration": 0.041958,
     "end_time": "2022-11-21T12:28:06.063984",
     "exception": false,
     "start_time": "2022-11-21T12:28:06.022026",
     "status": "completed"
    },
    "tags": []
   },
   "outputs": [],
   "source": [
    "def split_data(data):    \n",
    "    train_df, test_df = train_test_split(data, test_size=0.10, random_state=SEED)\n",
    "    train_df, val_df = train_test_split(train_df, test_size=0.15, random_state=SEED)\n",
    "\n",
    "    train_df = train_df.reset_index(drop=True)\n",
    "    val_df = val_df.reset_index(drop=True)\n",
    "    test_df = test_df.reset_index(drop=True)\n",
    "    \n",
    "    print('----------------------------------------------------------------')\n",
    "    print(\"The Number of Samples per Split\")\n",
    "    print('----------------------------------------------------------------')\n",
    "    print('Number of   training samples : {}'.format(train_df.shape[0]))\n",
    "    print('Number of validation samples : {}'.format(val_df.shape[0]))\n",
    "    print('Number of       test samples : {}'.format(test_df.shape[0]))\n",
    "    print('----------------------------------------------------------------')\n",
    "    \n",
    "    return train_df, val_df, test_df"
   ]
  },
  {
   "cell_type": "code",
   "execution_count": null,
   "id": "a94d355f",
   "metadata": {
    "execution": {
     "iopub.execute_input": "2022-11-21T12:28:06.128653Z",
     "iopub.status.busy": "2022-11-21T12:28:06.127688Z",
     "iopub.status.idle": "2022-11-21T12:28:06.133763Z",
     "shell.execute_reply": "2022-11-21T12:28:06.132810Z"
    },
    "papermill": {
     "duration": 0.041655,
     "end_time": "2022-11-21T12:28:06.136064",
     "exception": false,
     "start_time": "2022-11-21T12:28:06.094409",
     "status": "completed"
    },
    "tags": []
   },
   "outputs": [],
   "source": [
    "def define_image_generators(train_df, val_df, test_df):\n",
    "    train_generator = datagen.flow_from_dataframe(train_df, **data_gen_args)\n",
    "    val_generator = datagen.flow_from_dataframe(val_df, **data_gen_args)\n",
    "    test_generator = datagen.flow_from_dataframe(test_df, **data_gen_args, shuffle = False)\n",
    "    return train_generator, val_generator, test_generator\n"
   ]
  },
  {
   "cell_type": "code",
   "execution_count": null,
   "id": "46aefbac",
   "metadata": {
    "execution": {
     "iopub.execute_input": "2022-11-21T12:28:06.201380Z",
     "iopub.status.busy": "2022-11-21T12:28:06.200342Z",
     "iopub.status.idle": "2022-11-21T12:28:06.209061Z",
     "shell.execute_reply": "2022-11-21T12:28:06.208152Z"
    },
    "papermill": {
     "duration": 0.044461,
     "end_time": "2022-11-21T12:28:06.211213",
     "exception": false,
     "start_time": "2022-11-21T12:28:06.166752",
     "status": "completed"
    },
    "tags": []
   },
   "outputs": [],
   "source": [
    "def build_model():\n",
    "    base = VGG19(include_top = False, weights = WEIGHTS, input_shape = (IMAGE_HEIGHT, IMAGE_WIDTH, IMAGE_CHANNELS))\n",
    "    X = base.output\n",
    "    X = layers.Flatten()(X)\n",
    "    X = layers.Dense(512, activation = 'relu')(X)\n",
    "    X = layers.Dropout(0.4)(X)\n",
    "    X = layers.BatchNormalization()(X)\n",
    "    X = layers.Dense(512, activation = 'relu')(X)\n",
    "    X = layers.Dropout(0.3)(X)\n",
    "    X = layers.BatchNormalization()(X)\n",
    "    \n",
    "    # output\n",
    "    preds = layers.Dense(LABEL_CLASS, activation = 'softmax')(X)\n",
    "    model = models.Model(inputs = base.input, outputs = preds)\n",
    "    model.compile(optimizer = optimizers.RMSprop(learning_rate = LEARNINGRATE), loss = 'categorical_crossentropy', metrics = ['accuracy'])\n",
    "    \n",
    "    return model"
   ]
  },
  {
   "cell_type": "code",
   "execution_count": null,
   "id": "b5b7d567",
   "metadata": {
    "execution": {
     "iopub.execute_input": "2022-11-21T12:28:06.276431Z",
     "iopub.status.busy": "2022-11-21T12:28:06.276094Z",
     "iopub.status.idle": "2022-11-21T12:28:06.284226Z",
     "shell.execute_reply": "2022-11-21T12:28:06.283300Z"
    },
    "papermill": {
     "duration": 0.043963,
     "end_time": "2022-11-21T12:28:06.286434",
     "exception": false,
     "start_time": "2022-11-21T12:28:06.242471",
     "status": "completed"
    },
    "tags": []
   },
   "outputs": [],
   "source": [
    "def plot_accuracy_loss(history):    \n",
    "    acc = history.history['accuracy']\n",
    "    val_acc = history.history['val_accuracy']\n",
    "\n",
    "    loss = history.history['loss']\n",
    "    val_loss = history.history['val_loss']\n",
    "\n",
    "    epochs = range(1, len(acc) + 1)\n",
    "\n",
    "    plt.figure(figsize = (10, 7))\n",
    "\n",
    "    plt.subplot(1,2,1)\n",
    "    plt.plot(epochs, acc, c = 'b', label = 'Training Accuracy')\n",
    "    plt.plot(epochs, val_acc, c = 'g', label = 'Validation Accuracy')\n",
    "    plt.title('Training vs. Validation Accuracy')\n",
    "    plt.xlabel('Epoch')\n",
    "    plt.ylabel('Accuracy')\n",
    "    plt.legend()\n",
    "\n",
    "    plt.subplot(1,2,2)\n",
    "    plt.plot(epochs, loss, c = 'b', label = 'Training Loss')\n",
    "    plt.plot(epochs, val_loss, c = 'g', label = 'Validation Loss')\n",
    "    plt.title('Training vs. Validation Loss')\n",
    "    plt.xlabel('Epoch')\n",
    "    plt.ylabel('Loss')\n",
    "    plt.legend()\n",
    "\n",
    "    plt.show()"
   ]
  },
  {
   "cell_type": "code",
   "execution_count": null,
   "id": "e69dcb85",
   "metadata": {
    "execution": {
     "iopub.execute_input": "2022-11-21T12:28:06.351895Z",
     "iopub.status.busy": "2022-11-21T12:28:06.351179Z",
     "iopub.status.idle": "2022-11-21T12:28:06.357178Z",
     "shell.execute_reply": "2022-11-21T12:28:06.356292Z"
    },
    "papermill": {
     "duration": 0.042026,
     "end_time": "2022-11-21T12:28:06.359320",
     "exception": false,
     "start_time": "2022-11-21T12:28:06.317294",
     "status": "completed"
    },
    "tags": []
   },
   "outputs": [],
   "source": [
    "def show_accuracy_loss(model, test_generator):\n",
    "    print('---------------Evaluation Against Test Data---------------------')\n",
    "    eval_loss, eval_acc = model.evaluate(test_generator)\n",
    "    print('Evaluation Loss: {:.4f}, Evaluation Accuracy: {:.2f}'.format(eval_loss, eval_acc * 100))\n",
    "    print('----------------------------------------------------------------')"
   ]
  },
  {
   "cell_type": "code",
   "execution_count": null,
   "id": "0e4638c2",
   "metadata": {
    "execution": {
     "iopub.execute_input": "2022-11-21T12:28:06.423837Z",
     "iopub.status.busy": "2022-11-21T12:28:06.423474Z",
     "iopub.status.idle": "2022-11-21T12:28:06.433714Z",
     "shell.execute_reply": "2022-11-21T12:28:06.432839Z"
    },
    "papermill": {
     "duration": 0.046218,
     "end_time": "2022-11-21T12:28:06.435974",
     "exception": false,
     "start_time": "2022-11-21T12:28:06.389756",
     "status": "completed"
    },
    "tags": []
   },
   "outputs": [],
   "source": [
    "def show_predictions(model, test_generator, directory):    \n",
    "    preds = model.predict(test_generator)\n",
    "    y_test = test_generator.classes\n",
    "    y_pred_binary = preds.argmax(axis=1)\n",
    "    \n",
    "    print('---------------Predictions against Test Data---------------------')\n",
    "    print(\"The Accuracy of the model with the given test sample is : \", accuracy_score(y_test, y_pred_binary)*100, \"%\")\n",
    "    print('----------------------------------------------------------------')\n",
    "    print('')\n",
    "    \n",
    "    print('-----------------Classification Report--------------------------')\n",
    "    print(classification_report(y_test,y_pred_binary))\n",
    "    print('----------------------------------------------------------------')\n",
    "    print('')\n",
    "    \n",
    "    print('-----------------Confusion Matrix-------------------------------')\n",
    "    cm = confusion_matrix(y_test,y_pred_binary)\n",
    "    plt.subplots(figsize=(18, 6))\n",
    "    sns.heatmap(cm/np.sum(cm), annot= True, fmt='.2%', cmap='Blues')\n",
    "    plt.show()\n",
    "    print('')\n",
    "    \n",
    "    print('----------------Actual vs Predicted Figures---------------------')\n",
    "    plt.figure(figsize = (25,20))\n",
    "    for i in range(20):\n",
    "      plt.subplot(4,5,i+1)\n",
    "      image = load_img(directory+'/'+test_generator.filenames[i],target_size=(64,64))\n",
    "      plt.imshow(image)\n",
    "      plt.title('Actual: {} - Predicted: {}'.format(print_labels[y_test[i]], print_labels[y_pred_binary[i]]))\n",
    "    plt.show()\n",
    "    "
   ]
  },
  {
   "cell_type": "code",
   "execution_count": null,
   "id": "e0a3476e",
   "metadata": {
    "execution": {
     "iopub.execute_input": "2022-11-21T12:28:06.565372Z",
     "iopub.status.busy": "2022-11-21T12:28:06.564597Z",
     "iopub.status.idle": "2022-11-21T12:28:12.287728Z",
     "shell.execute_reply": "2022-11-21T12:28:12.286765Z"
    },
    "papermill": {
     "duration": 5.76036,
     "end_time": "2022-11-21T12:28:12.290892",
     "exception": false,
     "start_time": "2022-11-21T12:28:06.530532",
     "status": "completed"
    },
    "tags": []
   },
   "outputs": [],
   "source": [
    "model = build_model()\n",
    "model_colour = build_model()\n",
    "model_deep = build_model()\n",
    "model.summary()"
   ]
  },
  {
   "cell_type": "code",
   "execution_count": null,
   "id": "1d9caa67",
   "metadata": {
    "execution": {
     "iopub.execute_input": "2022-11-21T12:28:12.356280Z",
     "iopub.status.busy": "2022-11-21T12:28:12.355889Z",
     "iopub.status.idle": "2022-11-21T12:28:13.689322Z",
     "shell.execute_reply": "2022-11-21T12:28:13.688143Z"
    },
    "papermill": {
     "duration": 1.36992,
     "end_time": "2022-11-21T12:28:13.692319",
     "exception": false,
     "start_time": "2022-11-21T12:28:12.322399",
     "status": "completed"
    },
    "tags": []
   },
   "outputs": [],
   "source": [
    "plot_model(model)"
   ]
  },
  {
   "cell_type": "code",
   "execution_count": null,
   "id": "6a122afd",
   "metadata": {
    "execution": {
     "iopub.execute_input": "2022-11-21T12:28:13.905322Z",
     "iopub.status.busy": "2022-11-21T12:28:13.904736Z",
     "iopub.status.idle": "2022-11-21T12:28:14.715837Z",
     "shell.execute_reply": "2022-11-21T12:28:14.714751Z"
    },
    "papermill": {
     "duration": 0.867822,
     "end_time": "2022-11-21T12:28:14.718570",
     "exception": false,
     "start_time": "2022-11-21T12:28:13.850748",
     "status": "completed"
    },
    "tags": []
   },
   "outputs": [],
   "source": [
    "plot_data(color_df)"
   ]
  },
  {
   "cell_type": "code",
   "execution_count": null,
   "id": "59a2bc7a",
   "metadata": {
    "execution": {
     "iopub.execute_input": "2022-11-21T12:28:14.872409Z",
     "iopub.status.busy": "2022-11-21T12:28:14.872038Z",
     "iopub.status.idle": "2022-11-21T12:28:14.904619Z",
     "shell.execute_reply": "2022-11-21T12:28:14.902757Z"
    },
    "papermill": {
     "duration": 0.073959,
     "end_time": "2022-11-21T12:28:14.907812",
     "exception": false,
     "start_time": "2022-11-21T12:28:14.833853",
     "status": "completed"
    },
    "tags": []
   },
   "outputs": [],
   "source": [
    "train_df_colour, val_df_colour, test_df_colour = split_data(color_df)"
   ]
  },
  {
   "cell_type": "code",
   "execution_count": null,
   "id": "c91921c9",
   "metadata": {
    "execution": {
     "iopub.execute_input": "2022-11-21T12:28:15.072303Z",
     "iopub.status.busy": "2022-11-21T12:28:15.071649Z",
     "iopub.status.idle": "2022-11-21T12:28:58.308872Z",
     "shell.execute_reply": "2022-11-21T12:28:58.307620Z"
    },
    "papermill": {
     "duration": 43.27958,
     "end_time": "2022-11-21T12:28:58.311511",
     "exception": false,
     "start_time": "2022-11-21T12:28:15.031931",
     "status": "completed"
    },
    "tags": []
   },
   "outputs": [],
   "source": [
    "train_generator_colour, val_generator_colour, test_generator_colour = define_image_generators(train_df_colour, val_df_colour, test_df_colour)"
   ]
  },
  {
   "cell_type": "code",
   "execution_count": null,
   "id": "2a0ac0f2",
   "metadata": {
    "execution": {
     "iopub.execute_input": "2022-11-21T12:28:58.460866Z",
     "iopub.status.busy": "2022-11-21T12:28:58.460454Z",
     "iopub.status.idle": "2022-11-21T13:17:13.564304Z",
     "shell.execute_reply": "2022-11-21T13:17:13.563062Z"
    },
    "papermill": {
     "duration": 2895.144759,
     "end_time": "2022-11-21T13:17:13.567214",
     "exception": false,
     "start_time": "2022-11-21T12:28:58.422455",
     "status": "completed"
    },
    "tags": []
   },
   "outputs": [],
   "source": [
    "history_colour = model_colour.fit(train_generator_colour,\n",
    "                    epochs = EPOCHS,\n",
    "                    validation_data = val_generator_colour,\n",
    "                    callbacks = callbacks)"
   ]
  },
  {
   "cell_type": "code",
   "execution_count": null,
   "id": "3197c92e",
   "metadata": {
    "execution": {
     "iopub.execute_input": "2022-11-21T13:17:16.052567Z",
     "iopub.status.busy": "2022-11-21T13:17:16.052144Z",
     "iopub.status.idle": "2022-11-21T13:18:07.026746Z",
     "shell.execute_reply": "2022-11-21T13:18:07.025842Z"
    },
    "papermill": {
     "duration": 51.532994,
     "end_time": "2022-11-21T13:18:07.032682",
     "exception": false,
     "start_time": "2022-11-21T13:17:15.499688",
     "status": "completed"
    },
    "tags": []
   },
   "outputs": [],
   "source": [
    "pipeline_colour = Pipeline(steps=[('plot_accuracy_loss',plot_accuracy_loss(history_colour)),\n",
    "                                  ('show_accuracy_loss',show_accuracy_loss(model_colour, test_generator_colour)),\n",
    "                                  ('show_predictions',show_predictions(model_colour, test_generator_colour, dataset_dir))])"
   ]
  },
  {
   "cell_type": "code",
   "execution_count": null,
   "id": "921f08e5",
   "metadata": {
    "execution": {
     "iopub.execute_input": "2022-11-21T13:18:09.500893Z",
     "iopub.status.busy": "2022-11-21T13:18:09.499665Z",
     "iopub.status.idle": "2022-11-21T14:08:40.079946Z",
     "shell.execute_reply": "2022-11-21T14:08:40.078719Z"
    },
    "papermill": {
     "duration": 3031.297126,
     "end_time": "2022-11-21T14:08:40.082074",
     "exception": false,
     "start_time": "2022-11-21T13:18:08.784948",
     "status": "completed"
    },
    "tags": []
   },
   "outputs": [],
   "source": [
    "plot_data(deep_df)\n",
    "train_df_deep, val_df_deep, test_df_deep = split_data(deep_df)\n",
    "train_generator_deep, val_generator_deep, test_generator_deep = define_image_generators(train_df_deep, val_df_deep, test_df_deep)\n",
    "history_deep = model_deep.fit(train_generator_deep,\n",
    "                    epochs = EPOCHS,\n",
    "                    validation_data = val_generator_deep,\n",
    "                    callbacks = callbacks)\n",
    "pipeline_deep = Pipeline(steps=[('plot_accuracy_loss',plot_accuracy_loss(history_deep)),\n",
    "                                  ('show_accuracy_loss',show_accuracy_loss(model_deep, test_generator_deep)),\n",
    "                                  ('show_predictions',show_predictions(model_deep, test_generator_deep, dataset_dir))])"
   ]
  },
  {
   "cell_type": "code",
   "execution_count": null,
   "id": "30a1cd3b",
   "metadata": {
    "execution": {
     "iopub.execute_input": "2022-11-21T14:08:44.712826Z",
     "iopub.status.busy": "2022-11-21T14:08:44.712385Z",
     "iopub.status.idle": "2022-11-21T15:41:19.866738Z",
     "shell.execute_reply": "2022-11-21T15:41:19.865777Z"
    },
    "papermill": {
     "duration": 5556.827207,
     "end_time": "2022-11-21T15:41:20.413599",
     "exception": false,
     "start_time": "2022-11-21T14:08:43.586392",
     "status": "completed"
    },
    "tags": []
   },
   "outputs": [],
   "source": [
    "plot_data(df)\n",
    "train_df, val_df, test_df = split_data(df)\n",
    "train_generator, val_generator, test_generator = define_image_generators(train_df, val_df, test_df)\n",
    "history = model.fit(train_generator,\n",
    "                    epochs = EPOCHS,\n",
    "                    validation_data = val_generator,\n",
    "                    callbacks = callbacks)\n",
    "pipeline = Pipeline(steps=[('plot_accuracy_loss',plot_accuracy_loss(history)),\n",
    "                                  ('show_accuracy_loss',show_accuracy_loss(model, test_generator)),\n",
    "                                  ('show_predictions',show_predictions(model, test_generator, dataset_dir))])"
   ]
  }
 ],
 "metadata": {
  "kernelspec": {
   "display_name": "Python 3",
   "language": "python",
   "name": "python3"
  },
  "language_info": {
   "codemirror_mode": {
    "name": "ipython",
    "version": 3
   },
   "file_extension": ".py",
   "mimetype": "text/x-python",
   "name": "python",
   "nbconvert_exporter": "python",
   "pygments_lexer": "ipython3",
   "version": "3.10.0"
  },
  "papermill": {
   "default_parameters": {},
   "duration": 11684.957619,
   "end_time": "2022-11-21T15:42:04.257926",
   "environment_variables": {},
   "exception": null,
   "input_path": "__notebook__.ipynb",
   "output_path": "__notebook__.ipynb",
   "parameters": {},
   "start_time": "2022-11-21T12:27:19.300307",
   "version": "2.3.4"
  }
 },
 "nbformat": 4,
 "nbformat_minor": 5
}
